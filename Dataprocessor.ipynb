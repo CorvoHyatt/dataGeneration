{
 "cells": [
  {
   "cell_type": "code",
   "execution_count": 1,
   "metadata": {},
   "outputs": [],
   "source": [
    "from TABICON.ManejoArchivos import *\n",
    "io = ManejoArchivos()\n",
    "import itertools"
   ]
  },
  {
   "cell_type": "code",
   "execution_count": 4,
   "metadata": {},
   "outputs": [],
   "source": [
    "def leer_archivo_con_generador(nombre_archivo):\n",
    "    with open(nombre_archivo, 'r') as archivo:\n",
    "        for linea in archivo:\n",
    "            yield linea.strip()\n",
    "            \n",
    "def transformar_cadena(cadena):\n",
    "    cadena_sin_espacios = cadena.strip()\n",
    "    cadena_transformada = cadena_sin_espacios.replace(' ', '@')\n",
    "    return cadena_transformada"
   ]
  },
  {
   "cell_type": "code",
   "execution_count": 5,
   "metadata": {},
   "outputs": [],
   "source": [
    "name_file = \"pares_confusos_L2.txt\"\n",
    "output_pairs = \"producto_cartesiano_L2\"\n",
    "out_put = \"unique_words_L2\"\n",
    "\n",
    "if not io.existe_carpeta_archivo(output_pairs):\n",
    "    io.del_carpeta(output_pairs)\n",
    "io.crear_carpetas(output_pairs)\n",
    "\n",
    "confusedPair_path = io.add_to_path(output_pairs,\"producto_cartesiano_L2.txt\")\n",
    "if not io.existe_carpeta_archivo(out_put):\n",
    "    io.del_carpeta(out_put)\n",
    "io.crear_carpetas(out_put)\n",
    "uniqueW_path = io.add_to_path(out_put,\"unique_words_L2.txt\")\n",
    "\n",
    "unique_words = set()  # Conjunto para almacenar palabras únicas\n",
    "\n",
    "for linea in leer_archivo_con_generador(name_file):\n",
    "    arreglo = list(map(lambda x: transformar_cadena(x), linea.split(',')))\n",
    "    permutaciones = []\n",
    "    for i in range(1, len(arreglo) + 1):\n",
    "        permutaciones.extend(list(itertools.permutations(arreglo, r=i)))\n",
    "    for p in permutaciones:\n",
    "        if len(p) == 1:\n",
    "            unique_words.add(' '.join(p))  # Guardar palabras de longitud 1 en el conjunto\n",
    "        elif len(p) == 2:\n",
    "            io.open_write_file(confusedPair_path)\n",
    "            io.write_in_file(f\"{' '.join(p)}\")  # Agregar nueva línea\n",
    "        else:\n",
    "            continue\n",
    "\n",
    "# Ahora, después del bucle principal, escribimos las palabras únicas en el archivo:\n",
    "unique_words_list = list(unique_words)\n",
    "unique_words_list.sort()\n",
    "\n",
    "# Escribir la lista ordenada en el archivo\n",
    "with io.open_write_file(uniqueW_path) as f:\n",
    "    for palabra in unique_words_list:\n",
    "        f.write(palabra + \"\\n\")"
   ]
  },
  {
   "cell_type": "code",
   "execution_count": null,
   "metadata": {},
   "outputs": [],
   "source": [
    "def obtener_palabras_unicas_pares(nombre_archivo):\n",
    "    palabras_unicas = set()\n",
    "    with open(nombre_archivo, 'r', encoding='utf-8') as archivo:\n",
    "        for linea in archivo:\n",
    "            palabras = linea.strip().lower().split(',')  # Dividimos en palabras, ignorando espacios y convirtiendo a minúsculas\n",
    "            palabras_unicas.update(palabras)  # Agregamos las palabras al conjunto\n",
    "    return list(palabras_unicas).sort()\n",
    "\n",
    "palabras_unicas = obtener_palabras_unicas_pares(\"LASA76v2.txt\")\n"
   ]
  }
 ],
 "metadata": {
  "kernelspec": {
   "display_name": "SM",
   "language": "python",
   "name": "python3"
  },
  "language_info": {
   "codemirror_mode": {
    "name": "ipython",
    "version": 3
   },
   "file_extension": ".py",
   "mimetype": "text/x-python",
   "name": "python",
   "nbconvert_exporter": "python",
   "pygments_lexer": "ipython3",
   "version": "3.12.2"
  }
 },
 "nbformat": 4,
 "nbformat_minor": 2
}
