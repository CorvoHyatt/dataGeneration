{
 "cells": [
  {
   "cell_type": "code",
   "execution_count": 32,
   "metadata": {},
   "outputs": [],
   "source": [
    "from TABICON.ManejoArchivos import *\n",
    "io = ManejoArchivos()\n",
    "import itertools"
   ]
  },
  {
   "cell_type": "code",
   "execution_count": 33,
   "metadata": {},
   "outputs": [],
   "source": [
    "def leer_archivo_con_generador(nombre_archivo):\n",
    "    with open(nombre_archivo, 'r') as archivo:\n",
    "        for linea in archivo:\n",
    "            yield linea.strip()\n",
    "            \n",
    "def transformar_cadena(cadena):\n",
    "    cadena_sin_espacios = cadena.strip()\n",
    "    cadena_transformada = cadena_sin_espacios.replace(' ', '@')\n",
    "    return cadena_transformada"
   ]
  },
  {
   "cell_type": "code",
   "execution_count": 36,
   "metadata": {},
   "outputs": [],
   "source": [
    "name_file = \"WrongWordDictionary.txt\"\n",
    "output_pairs = \"confused_pairs\"\n",
    "out_put = \"unique_words\"\n",
    "\n",
    "if not io.existe_carpeta_archivo(output_pairs):\n",
    "    io.del_carpeta(output_pairs)\n",
    "io.crear_carpetas(output_pairs)\n",
    "\n",
    "confusedPair_path = io.add_to_path(output_pairs,\"confused_pairs.txt\")\n",
    "if not io.existe_carpeta_archivo(out_put):\n",
    "    io.del_carpeta(out_put)\n",
    "io.crear_carpetas(out_put)\n",
    "\n",
    "uniqueW_path = io.add_to_path(out_put,\"unique_words.txt\")\n",
    "for linea in leer_archivo_con_generador(name_file):\n",
    "\tarreglo = list(map(lambda x: transformar_cadena(x),linea.split(',')))\n",
    "\tpermutaciones = []\n",
    "\tfor i in range(1, len(arreglo) + 1):\n",
    "\t\tpermutaciones.extend(list(itertools.permutations(arreglo, r=i)))\n",
    "\tfor p in permutaciones:\n",
    "\t\tif len(p) == 1:\n",
    "\t\t\tio.open_write_file(uniqueW_path)\n",
    "\t\t\tio.write_in_file(\n",
    "                f\"{' '.join(p)}\"\n",
    "            )\n",
    "\t\telif len(p) == 2:\n",
    "\t\t\tio.open_write_file(confusedPair_path)\n",
    "\t\t\tio.write_in_file(\n",
    "                f\"{' '.join(p)}\"\n",
    "            )\n",
    "\t\telse:\n",
    "\t\t\tcontinue"
   ]
  }
 ],
 "metadata": {
  "kernelspec": {
   "display_name": "SM",
   "language": "python",
   "name": "python3"
  },
  "language_info": {
   "codemirror_mode": {
    "name": "ipython",
    "version": 3
   },
   "file_extension": ".py",
   "mimetype": "text/x-python",
   "name": "python",
   "nbconvert_exporter": "python",
   "pygments_lexer": "ipython3",
   "version": "3.12.3"
  }
 },
 "nbformat": 4,
 "nbformat_minor": 2
}
